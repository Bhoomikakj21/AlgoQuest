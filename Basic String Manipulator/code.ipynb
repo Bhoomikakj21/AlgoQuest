{
 "cells": [
  {
   "cell_type": "markdown",
   "id": "c40e729e-13e4-4597-b000-eaffe23c5d75",
   "metadata": {},
   "source": [
    "In this problem, we’re building a tiny text editor that can:\n",
    "\n",
    "Add new text to the end (append)\n",
    "\n",
    "Erase the last few characters (delete)\n",
    "\n",
    "Print a specific letter by position (print)\n",
    "\n",
    "Undo the last change (undo)\n",
    "\n",
    "To make this work smoothly:\n",
    "\n",
    "We use a list to store the text (since lists are great for adding/removing characters).\n",
    "\n",
    "We keep a history stack to remember past actions so we can undo them later.\n",
    "\n",
    "Since Jupyter doesn’t support standard input() easily, we simulate the input using a list of strings and a custom input() function.\n",
    "\n",
    "Overall, this setup helps us test the logic without needing to type inputs manually, and lets us focus on how each operation affects the text step by step."
   ]
  },
  {
   "cell_type": "code",
   "execution_count": 15,
   "id": "9416cfbc-160d-4bcf-a467-94a48ddf0ae6",
   "metadata": {},
   "outputs": [],
   "source": [
    "# Simulated input lines (like from a user or file)\n",
    "input_lines = [\n",
    "    '8',\n",
    "    '1 abc',\n",
    "    '3 3',\n",
    "    '2 3',\n",
    "    '1 xy',\n",
    "    '3 2',\n",
    "    '4',\n",
    "    '4',\n",
    "    '3 1'\n",
    "]"
   ]
  },
  {
   "cell_type": "code",
   "execution_count": 17,
   "id": "e2d5cf4a-ed85-47d0-b5b1-84c5b3db6888",
   "metadata": {},
   "outputs": [
    {
     "name": "stdout",
     "output_type": "stream",
     "text": [
      "c\n",
      "y\n",
      "a\n"
     ]
    }
   ],
   "source": [
    "def input():\n",
    "    return input_lines.pop(0)\n",
    "\n",
    "# This will hold the characters that make up our editor's current content\n",
    "current_text = []\n",
    "\n",
    "# We'll use this to remember what changes were made, so we can undo them\n",
    "undo_history = []\n",
    "\n",
    "# Read how many operations we need to perform\n",
    "number_of_commands = int(input())\n",
    "\n",
    "# Go through each command one by one\n",
    "for i in range(number_of_commands):\n",
    "    command_parts = input().split()\n",
    "    command_type = command_parts[0]\n",
    "\n",
    "    # If command is type 1: append text to the editor\n",
    "    if command_type == '1':\n",
    "        string_to_add = command_parts[1]\n",
    "        current_text.extend(string_to_add)  # Add letters to the end\n",
    "        undo_history.append(('append', len(string_to_add)))  # Remember how many characters we added\n",
    "\n",
    "    # If command is type 2: delete last k characters\n",
    "    elif command_type == '2':\n",
    "        number_to_delete = int(command_parts[1])\n",
    "        deleted_part = current_text[-number_to_delete:]  # Save what we're deleting\n",
    "        current_text = current_text[:-number_to_delete]  # Remove from the end\n",
    "        undo_history.append(('delete', deleted_part))    # Remember what we deleted\n",
    "\n",
    "    # If command is type 3: print the k-th character\n",
    "    elif command_type == '3':\n",
    "        character_position = int(command_parts[1])\n",
    "        if 0 < character_position <= len(current_text):\n",
    "            print(current_text[character_position - 1])  # Convert to 0-based index and print\n",
    "\n",
    "    # If command is type 4: undo last append or delete\n",
    "    elif command_type == '4':\n",
    "        if undo_history:\n",
    "            last_action = undo_history.pop()\n",
    "\n",
    "            if last_action[0] == 'append':\n",
    "                length_to_remove = last_action[1]\n",
    "                current_text = current_text[:-length_to_remove]  # Remove the last few characters\n",
    "\n",
    "            elif last_action[0] == 'delete':\n",
    "                deleted_characters = last_action[1]\n",
    "                current_text.extend(deleted_characters)  # Re-add the deleted characters\n"
   ]
  }
 ],
 "metadata": {
  "kernelspec": {
   "display_name": "Python [conda env:base] *",
   "language": "python",
   "name": "conda-base-py"
  },
  "language_info": {
   "codemirror_mode": {
    "name": "ipython",
    "version": 3
   },
   "file_extension": ".py",
   "mimetype": "text/x-python",
   "name": "python",
   "nbconvert_exporter": "python",
   "pygments_lexer": "ipython3",
   "version": "3.12.7"
  }
 },
 "nbformat": 4,
 "nbformat_minor": 5
}
