{
 "cells": [
  {
   "cell_type": "code",
   "execution_count": 6,
   "id": "d226c59c-fbbb-49bc-b29e-d252b51d5136",
   "metadata": {},
   "outputs": [],
   "source": [
    "import heapq\n",
    "from collections import defaultdict\n",
    "\n",
    "def find_minimum_spanning_tree(total_locations, connections):\n",
    "    # Create an adjacency list to represent the map of all locations and their connections\n",
    "    city_map = defaultdict(list)\n",
    "    for location_a, location_b, cost in connections:\n",
    "        city_map[location_a].append((cost, location_b))\n",
    "        city_map[location_b].append((cost, location_a))\n",
    "\n",
    "    # Boolean array to keep track of which locations are already connected\n",
    "    connected = [False] * (total_locations + 1)\n",
    "\n",
    "    # Min-heap to always choose the lowest-cost available connection\n",
    "    route_options = [(0, 0, -1)]  # (cost, current_location, from_location)\n",
    "\n",
    "    # Initialize total cost and list to store selected routes\n",
    "    overall_cost = 0\n",
    "    selected_routes = []\n",
    "\n",
    "    # Loop until all reachable locations are connected\n",
    "    while route_options:\n",
    "        # Get the cheapest connection available\n",
    "        cost, current_location, from_location = heapq.heappop(route_options)\n",
    "\n",
    "        # Skip if this location has already been connected\n",
    "        if connected[current_location]:\n",
    "            continue\n",
    "\n",
    "        # Mark the location as connected\n",
    "        connected[current_location] = True\n",
    "\n",
    "        # Add the cost of this connection\n",
    "        overall_cost += cost\n",
    "\n",
    "        # Save the connection if it's not the starting node\n",
    "        if from_location != -1:\n",
    "            selected_routes.append((from_location, current_location, cost))\n",
    "\n",
    "        # Add all neighboring connections to the heap\n",
    "        for next_cost, neighbor_location in city_map[current_location]:\n",
    "            if not connected[neighbor_location]:\n",
    "                heapq.heappush(route_options, (next_cost, neighbor_location, current_location))\n",
    "\n",
    "    # Return the total cost and the selected routes in the MST\n",
    "    return overall_cost, selected_routes\n"
   ]
  },
  {
   "cell_type": "code",
   "execution_count": 8,
   "id": "0dbc12e3-43c9-48ee-9159-de9b1a214722",
   "metadata": {},
   "outputs": [
    {
     "name": "stdout",
     "output_type": "stream",
     "text": [
      "Minimum cost to connect all locations: 16\n",
      "Selected connections:\n",
      "0 -> 1 (cost: 2)\n",
      "1 -> 2 (cost: 3)\n",
      "1 -> 4 (cost: 5)\n",
      "0 -> 3 (cost: 6)\n"
     ]
    }
   ],
   "source": [
    "# Define number of locations (nodes)\n",
    "total_locations = 5\n",
    "\n",
    "# Define available connections with their respective costs\n",
    "connections = [\n",
    "    (0, 1, 2),\n",
    "    (0, 3, 6),\n",
    "    (1, 2, 3),\n",
    "    (1, 3, 8),\n",
    "    (1, 4, 5),\n",
    "    (2, 4, 7),\n",
    "    (3, 4, 9)\n",
    "]\n",
    "\n",
    "# Run Prim's algorithm\n",
    "cost, routes = find_minimum_spanning_tree(total_locations, connections)\n",
    "\n",
    "# Print the total cost\n",
    "print(\"Minimum cost to connect all locations:\", cost)\n",
    "\n",
    "# Print each route in the MST\n",
    "print(\"Selected connections:\")\n",
    "for from_location, to_location, cost in routes:\n",
    "    print(f\"{from_location} -> {to_location} (cost: {cost})\")\n"
   ]
  }
 ],
 "metadata": {
  "kernelspec": {
   "display_name": "Python [conda env:base] *",
   "language": "python",
   "name": "conda-base-py"
  },
  "language_info": {
   "codemirror_mode": {
    "name": "ipython",
    "version": 3
   },
   "file_extension": ".py",
   "mimetype": "text/x-python",
   "name": "python",
   "nbconvert_exporter": "python",
   "pygments_lexer": "ipython3",
   "version": "3.12.7"
  }
 },
 "nbformat": 4,
 "nbformat_minor": 5
}
