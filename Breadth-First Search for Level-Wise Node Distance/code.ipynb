{
 "cells": [
  {
   "cell_type": "code",
   "execution_count": 2,
   "id": "7a88469f-005f-432f-9e57-e7c6ab699fec",
   "metadata": {},
   "outputs": [],
   "source": [
    "from collections import deque, defaultdict\n",
    "\n",
    "def compute_shortest_distances(total_nodes, edge_list, start_node):\n",
    "    # Create adjacency list to represent the undirected graph\n",
    "    graph = defaultdict(list)\n",
    "    for node_a, node_b in edge_list:\n",
    "        graph[node_a].append(node_b)\n",
    "        graph[node_b].append(node_a)\n",
    "\n",
    "    # Initialize distance list; -1 means unreachable\n",
    "    distances = [-1] * (total_nodes + 1)\n",
    "\n",
    "    # Use a queue for BFS and start from the source node\n",
    "    visit_queue = deque()\n",
    "    visit_queue.append(start_node)\n",
    "    distances[start_node] = 0  # Distance to itself is 0\n",
    "\n",
    "    # Perform BFS\n",
    "    while visit_queue:\n",
    "        current_node = visit_queue.popleft()\n",
    "\n",
    "        for neighbor in graph[current_node]:\n",
    "            if distances[neighbor] == -1:  # Not visited yet\n",
    "                distances[neighbor] = distances[current_node] + 1\n",
    "                visit_queue.append(neighbor)\n",
    "\n",
    "    return distances[1:]  # Remove dummy index 0 (1-based indexing)\n"
   ]
  },
  {
   "cell_type": "code",
   "execution_count": 4,
   "id": "00dd9e75-0d54-4453-9da1-a8cd6616567e",
   "metadata": {},
   "outputs": [
    {
     "name": "stdout",
     "output_type": "stream",
     "text": [
      "0\n",
      "1\n",
      "1\n",
      "2\n",
      "2\n",
      "3\n"
     ]
    }
   ],
   "source": [
    "# Number of nodes and edges\n",
    "n = 6\n",
    "m = 5\n",
    "\n",
    "# List of edges (undirected)\n",
    "edges = [\n",
    "    (1, 2),\n",
    "    (1, 3),\n",
    "    (2, 4),\n",
    "    (3, 5),\n",
    "    (5, 6)\n",
    "]\n",
    "\n",
    "# Starting node for BFS\n",
    "source = 1\n",
    "\n",
    "# Compute shortest distances\n",
    "distances = compute_shortest_distances(n, edges, source)\n",
    "\n",
    "# Print the distances from source to all other nodes\n",
    "for d in distances:\n",
    "    print(d)\n"
   ]
  }
 ],
 "metadata": {
  "kernelspec": {
   "display_name": "Python [conda env:base] *",
   "language": "python",
   "name": "conda-base-py"
  },
  "language_info": {
   "codemirror_mode": {
    "name": "ipython",
    "version": 3
   },
   "file_extension": ".py",
   "mimetype": "text/x-python",
   "name": "python",
   "nbconvert_exporter": "python",
   "pygments_lexer": "ipython3",
   "version": "3.12.7"
  }
 },
 "nbformat": 4,
 "nbformat_minor": 5
}
