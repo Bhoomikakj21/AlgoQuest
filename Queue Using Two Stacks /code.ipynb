{
 "cells": [
  {
   "cell_type": "code",
   "execution_count": 10,
   "id": "6835df95-635d-4873-b09a-624f7e272290",
   "metadata": {},
   "outputs": [
    {
     "name": "stdin",
     "output_type": "stream",
     "text": [
      " 8\n",
      " 1 101\n",
      " 1 102\n",
      " 3\n"
     ]
    },
    {
     "name": "stdout",
     "output_type": "stream",
     "text": [
      "101\n"
     ]
    },
    {
     "name": "stdin",
     "output_type": "stream",
     "text": [
      " 2\n",
      " 3\n"
     ]
    },
    {
     "name": "stdout",
     "output_type": "stream",
     "text": [
      "102\n"
     ]
    },
    {
     "name": "stdin",
     "output_type": "stream",
     "text": [
      " 1 103\n",
      " 2\n",
      " 3\n"
     ]
    },
    {
     "name": "stdout",
     "output_type": "stream",
     "text": [
      "103\n"
     ]
    }
   ],
   "source": [
    "class EmergencyQueue:\n",
    "    def __init__(self):\n",
    "        # Stack to keep track of the most recent patient arrivals\n",
    "        self.newest_requests = []\n",
    "        \n",
    "        # Stack to manage patients in the order they should be served\n",
    "        self.oldest_requests = []\n",
    "\n",
    "    def add_request(self, patient_id):\n",
    "        # A new patient arrives and is added to the waiting stack\n",
    "        self.newest_requests.append(patient_id)\n",
    "\n",
    "    def serve_next_patient(self):\n",
    "        # Make sure the oldest patients are ready to be served\n",
    "        self._prepare_oldest_requests()\n",
    "\n",
    "        # Serve (remove) the patient who has been waiting the longest\n",
    "        if self.oldest_requests:\n",
    "            self.oldest_requests.pop()\n",
    "\n",
    "    def peek_next_patient(self):\n",
    "        # Prepare the stack if it's empty so we can see the next patient\n",
    "        self._prepare_oldest_requests()\n",
    "\n",
    "        # Print the ID of the patient who's next in line (without removing them)\n",
    "        if self.oldest_requests:\n",
    "            print(self.oldest_requests[-1])\n",
    "\n",
    "    def _prepare_oldest_requests(self):\n",
    "        # If there are no patients currently ready to be served,\n",
    "        # transfer all waiting patients (newest to oldest) into service stack\n",
    "        if not self.oldest_requests:\n",
    "            while self.newest_requests:\n",
    "                self.oldest_requests.append(self.newest_requests.pop())\n",
    "\n",
    "# Read the total number of instructions (actions)\n",
    "total_instructions = int(input())\n",
    "\n",
    "# Create a new hospital emergency queue system\n",
    "hospital_queue = EmergencyQueue()\n",
    "\n",
    "# Process each instruction one by one\n",
    "for i in range(total_instructions):\n",
    "    instruction = input().strip().split()\n",
    "    \n",
    "    if instruction[0] == '1':\n",
    "        # Instruction type 1: A new patient with a given ID has arrived\n",
    "        patient_id = int(instruction[1])\n",
    "        hospital_queue.add_request(patient_id)\n",
    "\n",
    "    elif instruction[0] == '2':\n",
    "        # Instruction type 2: The patient at the front of the queue is served\n",
    "        hospital_queue.serve_next_patient()\n",
    "\n",
    "    elif instruction[0] == '3':\n",
    "        # Instruction type 3: We want to see who is next to be treated\n",
    "        hospital_queue.peek_next_patient()\n"
   ]
  },
  {
   "cell_type": "markdown",
   "id": "cd426c6c-4288-4130-bfcd-a63aa5621d3d",
   "metadata": {},
   "source": [
    "What’s Happening in the Queue\n",
    "\n",
    "A new patient with ID 101 arrives and is added to the waiting list.\n",
    "\n",
    "Soon after, another patient with ID 102 also joins the line.\n",
    "\n",
    "The doctor takes a quick look to see who's next in line it's patient 101, since they came in first. So, we print 101.\n",
    "\n",
    "Patient 101 is then called in and treated, so they’re removed from the queue.\n",
    "\n",
    "The staff checks again to see who's next. Now, it’s patient 102. We print 102.\n",
    "\n",
    "Another patient, ID 103, arrives and joins the line behind patient 102.\n",
    "\n",
    "The doctor treats patient 102 next, so they’re removed from the queue.\n",
    "\n",
    "A final check shows that patient 103 is now first in line. We print 103."
   ]
  },
  {
   "cell_type": "markdown",
   "id": "1cba7583-6a46-4ec8-94c1-2a77a8eb1461",
   "metadata": {},
   "source": [
    "Final output:\n",
    "\n",
    "101\n",
    "\n",
    "102\n",
    "\n",
    "103\n"
   ]
  }
 ],
 "metadata": {
  "kernelspec": {
   "display_name": "Python [conda env:base] *",
   "language": "python",
   "name": "conda-base-py"
  },
  "language_info": {
   "codemirror_mode": {
    "name": "ipython",
    "version": 3
   },
   "file_extension": ".py",
   "mimetype": "text/x-python",
   "name": "python",
   "nbconvert_exporter": "python",
   "pygments_lexer": "ipython3",
   "version": "3.12.7"
  }
 },
 "nbformat": 4,
 "nbformat_minor": 5
}
