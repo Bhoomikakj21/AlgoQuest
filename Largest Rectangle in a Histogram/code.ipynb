{
 "cells": [
  {
   "cell_type": "markdown",
   "id": "6e48791c-8bad-4e6b-9b77-b53fe4461db7",
   "metadata": {},
   "source": [
    "We're given heights of buildings placed side by side, and we want to figure out the biggest rectangle we can form by picking consecutive buildings.\n",
    "\n",
    "To solve this:\n",
    "\n",
    "We use a stack to keep track of buildings in increasing height.\n",
    "\n",
    "When we hit a shorter building, we know the taller ones before it must stop there — so we pop and calculate their area.\n",
    "\n",
    "We keep doing this to find the maximum area possible.\n",
    "\n",
    "It's efficient too only takes O(n) time!"
   ]
  },
  {
   "cell_type": "code",
   "execution_count": 5,
   "id": "5cb5d949-9c06-4bf3-bda8-7dbeb0dee392",
   "metadata": {},
   "outputs": [
    {
     "name": "stdin",
     "output_type": "stream",
     "text": [
      "Enter number of buildings:  5\n",
      "Enter building heights separated by space:  1 2 3 4 5\n"
     ]
    },
    {
     "name": "stdout",
     "output_type": "stream",
     "text": [
      "Largest rectangle area: 9\n"
     ]
    }
   ],
   "source": [
    "def largestRectangle(h):\n",
    "    # This stack will keep track of building indices\n",
    "    stack = []\n",
    "\n",
    "    # We'll use this to track the maximum area we can get\n",
    "    max_area = 0\n",
    "\n",
    "    # Start from the first building\n",
    "    index = 0\n",
    "    n = len(h)\n",
    "\n",
    "    # Go through each building one by one\n",
    "    while index < n:\n",
    "        # If the stack is empty or current building is taller than the one on top of stack\n",
    "        # we push its index onto the stack\n",
    "        if not stack or h[index] >= h[stack[-1]]:\n",
    "            stack.append(index)\n",
    "            index += 1\n",
    "        else:\n",
    "            # If the current building is shorter, calculate area using the height of the\n",
    "            # building on top of the stack (which is taller and now ends here)\n",
    "            top = stack.pop()\n",
    "\n",
    "            # Width is either from start to current index if stack is empty,\n",
    "            # or between current index and new top of stack\n",
    "            width = index if not stack else index - stack[-1] - 1\n",
    "\n",
    "            # Calculate area with popped building height and calculated width\n",
    "            area = h[top] * width\n",
    "\n",
    "            # Update the maximum area if this one is bigger\n",
    "            max_area = max(max_area, area)\n",
    "\n",
    "    # Now process any buildings left in the stack\n",
    "    while stack:\n",
    "        top = stack.pop()\n",
    "        width = index if not stack else index - stack[-1] - 1\n",
    "        area = h[top] * width\n",
    "        max_area = max(max_area, area)\n",
    "\n",
    "    # Return the largest area we found\n",
    "    return max_area\n",
    "\n",
    "\n",
    "# --- Take input from user ---\n",
    "n = int(input(\"Enter number of buildings: \"))\n",
    "h = list(map(int, input(\"Enter building heights separated by space: \").strip().split()))\n",
    "\n",
    "# --- Print the largest rectangle area that can be formed ---\n",
    "print(\"Largest rectangle area:\", largestRectangle(h))\n"
   ]
  }
 ],
 "metadata": {
  "kernelspec": {
   "display_name": "Python [conda env:base] *",
   "language": "python",
   "name": "conda-base-py"
  },
  "language_info": {
   "codemirror_mode": {
    "name": "ipython",
    "version": 3
   },
   "file_extension": ".py",
   "mimetype": "text/x-python",
   "name": "python",
   "nbconvert_exporter": "python",
   "pygments_lexer": "ipython3",
   "version": "3.12.7"
  }
 },
 "nbformat": 4,
 "nbformat_minor": 5
}
